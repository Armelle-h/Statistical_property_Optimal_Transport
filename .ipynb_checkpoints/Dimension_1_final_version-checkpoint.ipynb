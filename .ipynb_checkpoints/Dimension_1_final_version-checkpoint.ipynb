{
 "cells": [
  {
   "cell_type": "code",
   "execution_count": 1,
   "id": "abceac88",
   "metadata": {},
   "outputs": [],
   "source": [
    "import numpy as np\n",
    "import ot #package for optimal transport solver\n",
    "import matplotlib.pyplot as plt\n",
    "from helper import *"
   ]
  },
  {
   "cell_type": "code",
   "execution_count": null,
   "id": "ca362cd6",
   "metadata": {},
   "outputs": [],
   "source": [
    "#DO NOT RERUN, \n",
    "\n",
    "n=[100, 500, 1000] #just to see what it looks like, real thing should be n=[100,1000,10000]\n",
    "\n",
    "array_fn_1=\n",
    "np.savetxt(\"array_fn_1.csv\", array_fn_1, delimiter=\",\")"
   ]
  },
  {
   "cell_type": "code",
   "execution_count": 7,
   "id": "5eed6e0d",
   "metadata": {},
   "outputs": [],
   "source": [
    "#DO NOT RERUN, \n",
    "\n",
    "n=[100, 500, 1000] #just to see what it looks like, real thing should be n=[100,1000,10000]\n",
    "\n",
    "array_fn=[]\n",
    "array_B_t_1=[]\n",
    "\n",
    "\n",
    "\n",
    "for i in range(3):\n",
    "    if i==2:\n",
    "        t_1=np.random.randint(1,n[i]+1,1)[0] #outputs one random index in range(size(f_n)) excluding t_1=0 and t_1=n+2\n",
    "        array_B_t_1= B_t(t_1, n[i], seed=9001)\n",
    "        np.savetxt(\"array_B_t_1\"+str(n[i])+\".csv\", array_B_t_1, delimiter = \",\")\n",
    "    \n",
    "        #prerunning f_n to ease modifications later on\n",
    "        array_fn=f_n(n[i]) \n",
    "        np.savetxt(\"array_fn\"+str(n[i])+\".csv\", array_fn, delimiter = \",\")\n",
    "    \n",
    "#np.savetxt(\"array_fn.csv\", array_fn, delimiter = \",\")\n",
    "#np.savetxt(\"array_B_t_1.csv\", array_B_t_1, delimiter = \",\")"
   ]
  },
  {
   "cell_type": "code",
   "execution_count": null,
   "id": "c0833785",
   "metadata": {},
   "outputs": [],
   "source": [
    "n=[100, 500, 1000] #just to see what it looks like, real thing should be n=[100,1000,10000]\n",
    "fig, ax = plt.subplots(2,3,figsize= (13,3), sharey = True, sharex = False)\n",
    "\n",
    "#plot for the brownian bridge for different values of n\n",
    "for i in range(3):\n",
    "    sbplt = ax[0,i]\n",
    "    z=np.linspace(0,1,n[i]+2) #list of increments\n",
    "    #sbplt.plot(z,f_n(n[i]), label=\"y=f_n(x)\")  #to decomment\n",
    "    sbplt.plot(z,array_fn[i], label=\"y=f_n(x)\")#to delete\n",
    "    sbplt.axhline(y=0, color='r', linestyle='--', label=\"y=0\")\n",
    "    sbplt.set_title(\"Numerical simulation of f_n for n=%s\" % n[i])\n",
    "    sbplt.legend(loc='lower right')\n",
    "\n",
    "#plot of different realisations of a brownian bridge for a fixed value t in ]0,1[ for different values of n\n",
    "for i in range(3):\n",
    "    sbplt = ax[1,i]\n",
    "    t_1=np.random.randint(1,n[i]+1,1)[0] #outputs one random index in range(size(f_n)) excluding t_1=0 and t_1=n+2\n",
    "    #B_t_1=B_t(t_1, n[i], seed=9001)  #to decomment, put in comment so that I can easily rerun this and do modifications\n",
    "    \n",
    "    #adapting t_1 to make it belong in [0,1]\n",
    "    norm_t=t_1/(n+2)\n",
    "    std=np.sqrt(norm_t*(1-norm_t))\n",
    "    \n",
    "    #should look like a centered normal gaussian variable with mean 0 and variance t_1(1-t_1)\n",
    "    _, bins, _=sbplt.hist(array_B_t_1[i], density=True, label=\"Simulated ditribution \\n of B_t for t=%s\" %np.round(norm_t,2) , alpha=0.8)\n",
    "\n",
    "    #theorized distribution of a centered normal gaussian variable with mean 0 and variance t_1(1-t_1)\n",
    "    y = ((1 / (np.sqrt(2 * np.pi) * std)) * np.exp(-0.5 * (1 / std * bins)**2))\n",
    "    sbplt.plot(bins, y, '--', label=\"Theorized distribution \\n of a N(0,%s) \\n random variable\" %np.round(std**2,2))\n",
    "    sbplt.legend(loc=\"upper right\", fontsize=\"small\")\n",
    "    sbplt.set_title(\"Empirical distribution of f_n for {} realisations and at time t=\".format(n[i], %np.round(norm_t,2)))\n",
    "    \n",
    "fig.tight_layout()\n",
    "\n",
    "fig.text(0.3 ,-0.1,\"Numerical simulation of f_n for n=100, 500, 1000\", fontsize=13)"
   ]
  },
  {
   "cell_type": "code",
   "execution_count": null,
   "id": "a0e814b5",
   "metadata": {},
   "outputs": [],
   "source": []
  },
  {
   "cell_type": "markdown",
   "id": "2c1356c0",
   "metadata": {},
   "source": [
    "### Checking the functions in helper"
   ]
  },
  {
   "cell_type": "code",
   "execution_count": null,
   "id": "d49707bb",
   "metadata": {},
   "outputs": [],
   "source": [
    "n=500\n",
    "t_1=np.random.randint(1,n+1,1)[0] #outputs one random index in range(size(f_n)) excluding t_1=0 and t_1=n+2\n",
    "B_t_1=B_t(t_1, n, seed=9001)"
   ]
  },
  {
   "cell_type": "code",
   "execution_count": null,
   "id": "12b8015d",
   "metadata": {},
   "outputs": [],
   "source": [
    "#adapting t_1 to make it belong in [0,1]\n",
    "norm_t=t_1/(n+2)\n",
    "std=np.sqrt(norm_t*(1-norm_t))\n",
    "\n",
    "#should look like a centered normal gaussian variable with mean 0 and variance t_1(1-t_1)\n",
    "_, bins, _=plt.hist(B_t_1, density=True, label=\"Simulated ditribution \\n of B_t for t=%s\" %np.round(norm_t,2) , alpha=0.8)\n",
    "\n",
    "#theorized distribution of a centered normal gaussian variable with mean 0 and variance t_1(1-t_1)\n",
    "y = ((1 / (np.sqrt(2 * np.pi) * std)) * np.exp(-0.5 * (1 / std * bins)**2))\n",
    "plt.plot(bins, y, '--', label=\"Theorized distribution \\n of a N(0,%s) \\n random variable\" %np.round(std**2,2))\n",
    "\n",
    "plt.legend(loc=\"upper right\", fontsize=\"small\")\n",
    "plt.show()"
   ]
  },
  {
   "cell_type": "code",
   "execution_count": null,
   "id": "2a541741",
   "metadata": {},
   "outputs": [],
   "source": []
  },
  {
   "cell_type": "code",
   "execution_count": null,
   "id": "619b7c23",
   "metadata": {},
   "outputs": [],
   "source": []
  }
 ],
 "metadata": {
  "kernelspec": {
   "display_name": "Python 3 (ipykernel)",
   "language": "python",
   "name": "python3"
  },
  "language_info": {
   "codemirror_mode": {
    "name": "ipython",
    "version": 3
   },
   "file_extension": ".py",
   "mimetype": "text/x-python",
   "name": "python",
   "nbconvert_exporter": "python",
   "pygments_lexer": "ipython3",
   "version": "3.11.5"
  }
 },
 "nbformat": 4,
 "nbformat_minor": 5
}
