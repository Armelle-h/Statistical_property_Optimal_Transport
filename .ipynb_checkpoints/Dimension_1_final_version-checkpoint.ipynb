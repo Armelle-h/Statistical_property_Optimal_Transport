{
 "cells": [
  {
   "cell_type": "code",
   "execution_count": 1,
   "id": "afa7c341",
   "metadata": {},
   "outputs": [],
   "source": [
    "import numpy as np\n",
    "import ot #package for optimal transport solver\n",
    "import matplotlib.pyplot as plt"
   ]
  },
  {
   "cell_type": "code",
   "execution_count": 2,
   "id": "e2fd260d",
   "metadata": {},
   "outputs": [],
   "source": [
    "np.random.seed(9001)\n",
    "n=1000\n",
    "\n",
    "X=np.random.uniform(size=n)\n",
    "Y=np.linspace(1,n,n)/(n+1)"
   ]
  },
  {
   "cell_type": "code",
   "execution_count": 3,
   "id": "f7456f06",
   "metadata": {},
   "outputs": [],
   "source": [
    "C=np.zeros((n,n))#cost matrix, C_ij is the distance between X_i and Y_j\n",
    "\n",
    "for i in range(n):\n",
    "    for j in range(n):\n",
    "        C[i,j]=np.abs(X[i]-Y[j])**2#we're in dimension 1, okay, in higher dimension will need the norm"
   ]
  },
  {
   "cell_type": "code",
   "execution_count": 4,
   "id": "60827de0",
   "metadata": {},
   "outputs": [],
   "source": [
    "a=np.ones(n)/n\n",
    "b=np.ones(n)/n\n",
    "\n",
    "P_test=ot.emd(a, b, C, numItermax=100000, log=False, center_dual=True, numThreads=1, check_marginals=True)"
   ]
  },
  {
   "cell_type": "code",
   "execution_count": 5,
   "id": "59372908",
   "metadata": {},
   "outputs": [],
   "source": [
    "f=np.zeros(n+2) #interpolating function\n",
    "\n",
    "sigma=np.zeros(n)\n",
    "X_p=np.zeros(n)\n",
    "\n",
    "for i in range(n):\n",
    "    index=np.argwhere(P_test[i,:]>0)\n",
    "    X_p[index[0,0]]=X[i]\n",
    "\n",
    "\n",
    "for i in range(0,n):\n",
    "    f[i+1]=Y[i]-X_p[i]\n",
    "    \n",
    "z=np.linspace(0,1,n+2) #list of increments"
   ]
  },
  {
   "cell_type": "code",
   "execution_count": null,
   "id": "37fd4b16",
   "metadata": {},
   "outputs": [],
   "source": [
    "plt.plot(z,f) \n",
    "plt.axhline(y=0, color='r', linestyle='--')\n",
    "plt.show()"
   ]
  },
  {
   "cell_type": "code",
   "execution_count": null,
   "id": "ca2ba494",
   "metadata": {},
   "outputs": [],
   "source": []
  }
 ],
 "metadata": {
  "kernelspec": {
   "display_name": "Python 3 (ipykernel)",
   "language": "python",
   "name": "python3"
  },
  "language_info": {
   "codemirror_mode": {
    "name": "ipython",
    "version": 3
   },
   "file_extension": ".py",
   "mimetype": "text/x-python",
   "name": "python",
   "nbconvert_exporter": "python",
   "pygments_lexer": "ipython3",
   "version": "3.9.7"
  }
 },
 "nbformat": 4,
 "nbformat_minor": 5
}
