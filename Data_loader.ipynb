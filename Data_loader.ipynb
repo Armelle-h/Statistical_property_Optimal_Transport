{
 "cells": [
  {
   "cell_type": "markdown",
   "id": "115b78aa",
   "metadata": {},
   "source": [
    "## Warning\n",
    "\n",
    "- This notebook consists of simulating and saving realisations of the function f_n and the brownian motion B_t described in the file \"helper.py\".\n",
    "- It takes several hours to run depending on your computer\n",
    "- You should have a folder called \"DATA\" in which your data once simulated will be stored under a .txt file"
   ]
  },
  {
   "cell_type": "code",
   "execution_count": 1,
   "id": "85f36155",
   "metadata": {},
   "outputs": [],
   "source": [
    "import numpy as np\n",
    "import ot #package for optimal transport solver\n",
    "import matplotlib.pyplot as plt\n",
    "from helper import *"
   ]
  },
  {
   "cell_type": "markdown",
   "id": "a0fb5dee",
   "metadata": {},
   "source": [
    "### n=100"
   ]
  },
  {
   "cell_type": "code",
   "execution_count": null,
   "id": "bbe98f3f",
   "metadata": {},
   "outputs": [],
   "source": [
    "B_array_100=B_t(100, 10000, seed=9001) #100+2, the number of interpolating point of f_n  1000 the number of realisations of f_n\n",
    "np.savetxt(\"DATA/B_array_100.csv\", B_array_100, delimiter = \",\")"
   ]
  },
  {
   "cell_type": "markdown",
   "id": "c9002231",
   "metadata": {},
   "source": [
    "### n=500"
   ]
  },
  {
   "cell_type": "code",
   "execution_count": null,
   "id": "9f9531f6",
   "metadata": {},
   "outputs": [],
   "source": [
    "B_array_500=B_t(500, 10000, seed=9001) #500+2, the number of interpolating point of f_n  1000 the number of realisations of f_n\n",
    "np.savetxt(\"DATA/B_array_500.csv\", B_array_500, delimiter = \",\")"
   ]
  },
  {
   "cell_type": "markdown",
   "id": "cdab8df2",
   "metadata": {},
   "source": [
    "### n=1000"
   ]
  },
  {
   "cell_type": "code",
   "execution_count": 2,
   "id": "744a84a6",
   "metadata": {},
   "outputs": [],
   "source": [
    "B_array_1000=B_t(1000, 10000, seed=9001) #1000+2, the number of interpolating point of f_n  1000 the number of realisations of f_n\n",
    "np.savetxt(\"DATA/B_array_1000.csv\", B_array_1000, delimiter = \",\")"
   ]
  },
  {
   "cell_type": "markdown",
   "id": "967fd956",
   "metadata": {},
   "source": [
    "## End"
   ]
  }
 ],
 "metadata": {
  "kernelspec": {
   "display_name": "Python 3 (ipykernel)",
   "language": "python",
   "name": "python3"
  },
  "language_info": {
   "codemirror_mode": {
    "name": "ipython",
    "version": 3
   },
   "file_extension": ".py",
   "mimetype": "text/x-python",
   "name": "python",
   "nbconvert_exporter": "python",
   "pygments_lexer": "ipython3",
   "version": "3.11.5"
  }
 },
 "nbformat": 4,
 "nbformat_minor": 5
}
